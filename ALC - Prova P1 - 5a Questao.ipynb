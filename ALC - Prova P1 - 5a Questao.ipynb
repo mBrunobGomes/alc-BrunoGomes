{
 "cells": [
  {
   "cell_type": "code",
   "execution_count": 12,
   "id": "6d73a99e",
   "metadata": {},
   "outputs": [
    {
     "name": "stdout",
     "output_type": "stream",
     "text": [
      "A norma 3 da matriz é: 8.107912808108658\n"
     ]
    }
   ],
   "source": [
    "#Questão 5 da 1a Prova de ALC\n",
    "#Bruno Gomes\n",
    "#SEM UTILIZAR FUNÇÕES DO MÓDULO numpy.linalg, implemente uma função em Python que \n",
    "#estime a norma-p de uma matriz 2x2.\n",
    "#A função deve ser nomeada norma_p_matriz_2por2, e deve receber como argumentos\n",
    "#a matriz (objeto da classe numpy.array) e o valor de p.\n",
    "\n",
    "import numpy as np\n",
    "\n",
    "\n",
    "def norma_p_matriz_2por2(matriz, p):\n",
    "    if matriz.shape != (2, 2):\n",
    "        raise ValueError(\"A matriz deve ser 2x2\")\n",
    "    \n",
    "    if p < 1:\n",
    "        raise ValueError(\"O valor de p deve ser maior ou igual a 1\")\n",
    "\n",
    "    soma = 0\n",
    "\n",
    "    for i in range(2):\n",
    "        for j in range(2):\n",
    "            soma = soma + abs(matriz[i, j]) ** p\n",
    "\n",
    "    norma = soma ** (1/p)\n",
    "    return norma\n",
    "\n",
    "# Exemplo de uso:\n",
    "matriz = np.array([[-4, 1], [5, 7]])\n",
    "p = 3\n",
    "\n",
    "resultado = norma_p_matriz_2por2(matriz, p)\n",
    "print(f\"A norma {p} da matriz é: {resultado}\")\n"
   ]
  }
 ],
 "metadata": {
  "kernelspec": {
   "display_name": "Python 3 (ipykernel)",
   "language": "python",
   "name": "python3"
  },
  "language_info": {
   "codemirror_mode": {
    "name": "ipython",
    "version": 3
   },
   "file_extension": ".py",
   "mimetype": "text/x-python",
   "name": "python",
   "nbconvert_exporter": "python",
   "pygments_lexer": "ipython3",
   "version": "3.11.4"
  }
 },
 "nbformat": 4,
 "nbformat_minor": 5
}
