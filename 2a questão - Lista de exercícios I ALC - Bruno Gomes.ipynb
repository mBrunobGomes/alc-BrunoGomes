{
 "cells": [
  {
   "cell_type": "code",
   "execution_count": 1,
   "id": "93a8c939",
   "metadata": {},
   "outputs": [],
   "source": [
    "import numpy as np"
   ]
  },
  {
   "cell_type": "code",
   "execution_count": 2,
   "id": "22588b15",
   "metadata": {},
   "outputs": [],
   "source": [
    "A = np.array([[1,0,-1/2],\n",
    "              [0,-1/2,-1/4],\n",
    "              [-1/2,-1/4,-3/2]])"
   ]
  },
  {
   "cell_type": "code",
   "execution_count": 5,
   "id": "e536b773",
   "metadata": {},
   "outputs": [],
   "source": [
    "b = np.array([-4,2,0])"
   ]
  },
  {
   "cell_type": "code",
   "execution_count": 6,
   "id": "90f4bd7a",
   "metadata": {},
   "outputs": [],
   "source": [
    "x = np.linalg.solve(A,b)"
   ]
  },
  {
   "cell_type": "code",
   "execution_count": 7,
   "id": "a8c71575",
   "metadata": {},
   "outputs": [
    {
     "name": "stdout",
     "output_type": "stream",
     "text": [
      "Resolução do sistema linear 2ª questão da lista de ALC [-3.07692308 -4.92307692  1.84615385]\n"
     ]
    }
   ],
   "source": [
    "print(\"Resolução do sistema linear 2ª questão da lista de ALC\", x)"
   ]
  },
  {
   "cell_type": "code",
   "execution_count": 8,
   "id": "9b03bdfe",
   "metadata": {},
   "outputs": [],
   "source": [
    "from fractions import Fraction"
   ]
  },
  {
   "cell_type": "code",
   "execution_count": 9,
   "id": "85f190b7",
   "metadata": {},
   "outputs": [],
   "source": [
    "x_fractions = [Fraction(num).limit_denominator() for num in x]"
   ]
  },
  {
   "cell_type": "code",
   "execution_count": 11,
   "id": "93c7ea64",
   "metadata": {},
   "outputs": [
    {
     "name": "stdout",
     "output_type": "stream",
     "text": [
      "Resolução do sistema linear 2ª questão da lista de ALC\n",
      "v1 = -40/13\n",
      "v2 = -64/13\n",
      "v3 = 24/13\n"
     ]
    }
   ],
   "source": [
    "print(\"Resolução do sistema linear 2ª questão da lista de ALC\")\n",
    "for idx, fraction in enumerate(x_fractions):\n",
    "    print(f\"v{idx+1} =\", fraction)\n"
   ]
  },
  {
   "cell_type": "code",
   "execution_count": null,
   "id": "a344e7b8",
   "metadata": {},
   "outputs": [],
   "source": []
  }
 ],
 "metadata": {
  "kernelspec": {
   "display_name": "Python 3 (ipykernel)",
   "language": "python",
   "name": "python3"
  },
  "language_info": {
   "codemirror_mode": {
    "name": "ipython",
    "version": 3
   },
   "file_extension": ".py",
   "mimetype": "text/x-python",
   "name": "python",
   "nbconvert_exporter": "python",
   "pygments_lexer": "ipython3",
   "version": "3.11.4"
  }
 },
 "nbformat": 4,
 "nbformat_minor": 5
}
