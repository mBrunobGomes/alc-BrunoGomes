{
 "cells": [
  {
   "cell_type": "code",
   "execution_count": 6,
   "id": "d9381aec",
   "metadata": {},
   "outputs": [
    {
     "name": "stdout",
     "output_type": "stream",
     "text": [
      "Solução: [10.777777777777779, -11.833333333333332, 3.5555555555555554]\n"
     ]
    }
   ],
   "source": [
    "#from fractions import Fraction\n",
    "\n",
    "matriz_triang = [\n",
    "    [5, 6, 11],\n",
    "    [0, 8, 30],\n",
    "    [0, 0, 9]\n",
    "]\n",
    "\n",
    "vetor = [22, 12, 32]\n",
    "\n",
    "def subst_regres(matriz_triang, vetor):\n",
    "    n = len(matriz_triang)\n",
    "    solucao = [0] * n\n",
    "    \n",
    "    for i in range(n - 1, -1, -1):\n",
    "        if matriz_triang[i][i] == 0:\n",
    "            raise ValueError(\"Exception\")\n",
    "        \n",
    "        soma = 0\n",
    "        for j in range(i + 1, n):\n",
    "            soma += matriz_triang[i][j] * solucao[j]\n",
    "        \n",
    "        solucao[i] = (vetor[i] - soma) / matriz_triang[i][i]\n",
    "    \n",
    "    return solucao\n",
    "\n",
    "\n",
    "try:\n",
    "    solucao = subst_regres(matriz_triang, vetor)\n",
    "    print(\"Solução:\", solucao)\n",
    "except ValueError as e:\n",
    "    print(\"Erro:\", e)"
   ]
  },
  {
   "cell_type": "code",
   "execution_count": null,
   "id": "cd4b99e7",
   "metadata": {},
   "outputs": [],
   "source": []
  }
 ],
 "metadata": {
  "kernelspec": {
   "display_name": "Python 3 (ipykernel)",
   "language": "python",
   "name": "python3"
  },
  "language_info": {
   "codemirror_mode": {
    "name": "ipython",
    "version": 3
   },
   "file_extension": ".py",
   "mimetype": "text/x-python",
   "name": "python",
   "nbconvert_exporter": "python",
   "pygments_lexer": "ipython3",
   "version": "3.11.4"
  }
 },
 "nbformat": 4,
 "nbformat_minor": 5
}
