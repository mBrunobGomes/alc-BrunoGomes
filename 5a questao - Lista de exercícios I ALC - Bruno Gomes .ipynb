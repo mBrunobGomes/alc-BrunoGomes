{
 "cells": [
  {
   "cell_type": "code",
   "execution_count": 9,
   "id": "04f3ac7f",
   "metadata": {},
   "outputs": [
    {
     "name": "stdout",
     "output_type": "stream",
     "text": [
      "A posição do efetuador final é: X = 29.4 cm, Y = 29.2 cm\n"
     ]
    }
   ],
   "source": [
    "import math\n",
    "\n",
    "def posicao_robo(theta1, theta2, L1, L2):\n",
    "    x = L1 * math.cos(math.radians(theta1)) + L2 * math.cos(math.radians(theta1 + theta2))\n",
    "    y = L1 * math.sin(math.radians(theta1)) + L2 * math.sin(math.radians(theta1 + theta2))\n",
    "    return round(x, 1), round(y, 1)\n",
    "\n",
    "L1 = 33.0  # cm\n",
    "L2 = 18.0  # cm\n",
    "theta1 = 20.0  # graus\n",
    "theta2 = 75.0  # graus\n",
    "\n",
    "x_final, y_final = posicao_robo(theta1, theta2, L1, L2)\n",
    "print(f\"A posição do efetuador final é: X = {x_final} cm, Y = {y_final} cm\")\n",
    "\n",
    "\n"
   ]
  },
  {
   "cell_type": "code",
   "execution_count": null,
   "id": "f1959120",
   "metadata": {},
   "outputs": [],
   "source": []
  }
 ],
 "metadata": {
  "kernelspec": {
   "display_name": "Python 3 (ipykernel)",
   "language": "python",
   "name": "python3"
  },
  "language_info": {
   "codemirror_mode": {
    "name": "ipython",
    "version": 3
   },
   "file_extension": ".py",
   "mimetype": "text/x-python",
   "name": "python",
   "nbconvert_exporter": "python",
   "pygments_lexer": "ipython3",
   "version": "3.11.4"
  }
 },
 "nbformat": 4,
 "nbformat_minor": 5
}
